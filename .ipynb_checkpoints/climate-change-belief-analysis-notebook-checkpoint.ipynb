{
 "cells": [
  {
   "cell_type": "markdown",
   "id": "6c7e849a",
   "metadata": {
    "ExecuteTime": {
     "end_time": "2021-06-11T09:24:53.643384Z",
     "start_time": "2021-06-11T09:24:53.622385Z"
    }
   },
   "source": [
    "# Classification Predict Student Solution\n",
    "\n",
    "© Explore Data Science Academy\n",
    "\n",
    "---\n",
    "### Honour Code\n",
    "\n",
    "We **TEAM-CW3**, confirm - by submitting this document - that the solutions in this notebook are a result of our own work and that we abide by the [EDSA honour code](https://drive.google.com/file/d/1QDCjGZJ8-FmJE3bZdIQNwnJyQKPhHZBn/view?usp=sharing).\n",
    "\n",
    "Non-compliance with the honour code constitutes a material breach of contract.\n",
    "\n",
    "### Predict Overview: Climate Change Belief Analysis Challenge\n",
    "\n",
    "Many companies are built around lessening one’s environmental impact or carbon footprint. They offer products and services that are environmentally friendly and sustainable, in line with their values and ideals. They would like to determine how people perceive climate change and whether or not they believe it is a real threat or not. This would add to their market research efforts in gauging how their product/service may be received. The sentiments are classified numerically, see below for their meaning:\n",
    "\n",
    "### Sentiment value: Sentiment description\n",
    "* 2 News: the tweet links to factual news about climate change\n",
    "* 1 Pro: the tweet supports the belief of man-made climate change\n",
    "* 0 Neutral: the tweet neither supports nor refutes the belief of man-made climate change\n",
    "* -1 Anti: the tweet does not believe in man-made climate change\n",
    "\n",
    "- 1. analyse the supplied data;\n",
    "- 2. identify potential errors in the data and clean the existing data set;\n",
    "- 3. determine if additional features can be added to enrich the data set;\n",
    "- 4. build a model that is capable of classifying people's belief when is comes to carbon threat by products;\n",
    "- 5. evaluate the accuracy of the best machine learning model;\n",
    "- 6. determine what features were most important in the model’s prediction decision, and\n",
    "- 7. explain the inner working of the model to a non-technical audience.\n",
    "\n",
    "Formally the problem statement is given to CW3 by, the senior data scientist (Claudia Wilson), via email reads as follow:\n",
    "\n",
    "> In this project Explore Data Science Academy's TEAM-CW3 is tasked to solve this challenge by creating an Advanced Classification Machine Learning model that is able to classify whether or not a person believes in climate change, based on their novel tweet data.\n",
    " \n",
    "Additionally we provide these companies with notebook containing explanations of what the main outcomes are. "
   ]
  },
  {
   "cell_type": "markdown",
   "id": "05600c92",
   "metadata": {},
   "source": [
    "<a id=\"cont\"></a>\n",
    "\n",
    "## Table of Contents\n",
    "\n",
    "<a href=#one>1. Importing Packages</a>\n",
    "\n",
    "<a href=#two>2. Loading Data</a>\n",
    "\n",
    "<a href=#three>3. Exploratory Data Analysis (EDA)</a>\n",
    "\n",
    "<a href=#four>4. Sentiment Analysis</a>\n",
    "\n",
    "<a href=#five>5. Modeling</a>\n",
    "\n",
    "<a href=#six>6. Model Performance</a>\n",
    "\n",
    "<a href=#seven>7. Model Explanations</a>"
   ]
  },
  {
   "cell_type": "markdown",
   "id": "997462e2",
   "metadata": {},
   "source": [
    " <a id=\"one\"></a>\n",
    "## 1. Importing Packages\n",
    "<a href=#cont>Back to Table of Contents</a>\n",
    "\n",
    "---\n",
    "    \n",
    "| ⚡ Description: Importing Packages ⚡ |\n",
    "| :--------------------------- |\n",
    "| In this section we are importing, and briefly discussing, the libraries that will be used throughout the analysis and modelling. |\n",
    "\n",
    "---"
   ]
  },
  {
   "cell_type": "code",
   "execution_count": null,
   "id": "e996e542",
   "metadata": {},
   "outputs": [],
   "source": [
    "# %pip install -U comet_ml unidecode nltk scikit-learn==0.24.2 contractions\n",
    "# %pip install emoji\n",
    "# %pip install pyspellchecker\n",
    "# %pip install ftfy"
   ]
  },
  {
   "cell_type": "code",
   "execution_count": 34,
   "id": "068f4348",
   "metadata": {},
   "outputs": [],
   "source": [
    "# import comet_ml at the top of your file\n",
    "from comet_ml import Experiment\n",
    "\n",
    "# probably should not leak the api key here... but in this context it's the easiest\n",
    "# remember to call experiment.end()\n",
    "def create_experiment():\n",
    "    return Experiment(\n",
    "        api_key='qyBYUW3bdXWZMKz3qXMeU6Dm4',\n",
    "        project_name='climate-change-tweet-classification',\n",
    "        workspace='thulaninyama',\n",
    "    )\n",
    "\n",
    "def log_results(experiment, params: dict, metrics: dict):\n",
    "    # Log our parameters and results\n",
    "    experiment.log_parameters(params)\n",
    "    experiment.log_metrics(metrics)\n",
    "\n",
    "# should not be used alone, use cometize_model instead\n",
    "def __record_run(experiment, params, y_true, y_pred):\n",
    "    metrics = {\n",
    "        \"accuracy\": accuracy_score(y_true, y_pred),\n",
    "        \"precision\": precision_score(y_true, y_pred, average='weighted'),\n",
    "        \"recall\": recall_score(y_true, y_pred, average='weighted'),\n",
    "        \"f1\": f1_score(y_true, y_pred, average='weighted'),\n",
    "    }\n",
    "    \n",
    "    log_results(experiment, params, metrics)\n",
    "    \n",
    "def cometize_model(model, _X, _y, notes='<no notes>', model_type='<not given>'):\n",
    "    exp = create_experiment()\n",
    "    \n",
    "    X_train, X_test, y_train, y_test = train_test_split(_X, _y, test_size=0.20, shuffle=True, random_state=42)\n",
    "    mod = model.fit(X_train, y_train)\n",
    "    \n",
    "    y_pred = model.predict(X_test)\n",
    "    params = model.get_params(deep=True)\n",
    "    \n",
    "    exp.log_other(key=\"notes\", value=notes)\n",
    "    exp.log_other(key=\"model_type\", value=model_type)\n",
    "    \n",
    "    __record_run(exp, params, y_test, y_pred)\n",
    "        \n",
    "    exp.end()\n"
   ]
  },
  {
   "cell_type": "code",
   "execution_count": 1,
   "id": "475dbe93",
   "metadata": {
    "ExecuteTime": {
     "end_time": "2021-06-23T10:30:53.800892Z",
     "start_time": "2021-06-23T10:30:50.215449Z"
    }
   },
   "outputs": [],
   "source": [
    "# numpy is used to perform mathematical operations on arrays\n",
    "import numpy as np\n",
    "# pandas is used analyzing, cleaning, exploring, and data manipulation in dataframes.\n",
    "import pandas as pd\n",
    "from pandas import MultiIndex\n",
    "\n",
    "#Below are comprehensive libraries for creating static, animated, and interactive visualizations.\n",
    "import matplotlib.pyplot as plt\n",
    "%matplotlib inline\n",
    "import itertools\n",
    "import seaborn as sns\n",
    "#from wordcloud import WordCloud\n",
    "from plotly import graph_objects as go\n",
    "# set plot style\n",
    "sns.set()\n",
    "#Regular Expression used for data cleaning\n",
    "import re\n",
    "\n",
    "#Text processing packages\n",
    "import nltk\n",
    "from nltk.corpus import stopwords\n",
    "from nltk.tokenize import word_tokenize, TreebankWordTokenizer\n",
    "from nltk.tokenize import RegexpTokenizer\n",
    "from nltk.stem.porter import PorterStemmer\n",
    "from nltk.stem import WordNetLemmatizer\n",
    "import string\n",
    "from sklearn.feature_extraction.text import TfidfVectorizer\n",
    "\n",
    "#Model evaluation packages\n",
    "from sklearn.metrics import f1_score\n",
    "from sklearn.metrics import confusion_matrix\n",
    "from sklearn.metrics import classification_report \n",
    "from sklearn.metrics import accuracy_score, precision_score,  recall_score\n",
    "\n",
    "#Packages to split the data for testing and training\n",
    "from sklearn.model_selection import train_test_split\n",
    "\n",
    "from sklearn.feature_selection import SelectKBest\n",
    "from sklearn.feature_selection import f_classif\n",
    "\n",
    "#Modelling Packages\n",
    "from catboost import Pool, CatBoostClassifier\n",
    "from sklearn.linear_model import LogisticRegression\n",
    "from sklearn.tree import DecisionTreeClassifier\n",
    "from sklearn.ensemble import RandomForestClassifier\n",
    "from xgboost import XGBClassifier\n",
    "from xgboost import XGBRFClassifier\n",
    "from sklearn.naive_bayes import MultinomialNB\n",
    "from sklearn.neural_network import MLPClassifier\n",
    "from sklearn.neighbors import KNeighborsClassifier\n",
    "from sklearn.ensemble import IsolationForest\n",
    "from sklearn.svm import LinearSVC\n",
    "from sklearn.svm import SVC\n",
    "\n",
    "#\n",
    "from sklearn.model_selection import GridSearchCV\n",
    "# from imblearn.pipeline import make_pipeline\n",
    "from sklearn.pipeline import Pipeline\n",
    "from sklearn.pipeline import FeatureUnion\n",
    "\n",
    "#Imbalanced data processing packages\n",
    "from imblearn.over_sampling import SMOTE\n",
    "from collections import Counter\n",
    "from imblearn.combine import SMOTEENN, SMOTETomek\n",
    "\n",
    "import warnings\n",
    "warnings.filterwarnings('ignore')\n",
    "from sklearn.feature_extraction.text import CountVectorizer, TfidfVectorizer\n",
    "\n",
    "import shap"
   ]
  },
  {
   "cell_type": "code",
   "execution_count": 2,
   "id": "bdd7afb8",
   "metadata": {},
   "outputs": [
    {
     "name": "stdout",
     "output_type": "stream",
     "text": [
      "Stopwords: 179\n",
      "Punctuation: 32\n"
     ]
    }
   ],
   "source": [
    "# global constants\n",
    "random_state = 42\n",
    "from string import punctuation\n",
    "\n",
    "eng_stopword_set = set(stopwords.words('english'))\n",
    "punctuation_set = set([p for p in punctuation])\n",
    "\n",
    "print(\"Stopwords:\", len(eng_stopword_set))\n",
    "print(\"Punctuation:\", len(punctuation_set))"
   ]
  },
  {
   "cell_type": "markdown",
   "id": "f22a6718",
   "metadata": {},
   "source": [
    "<a id=\"two\"></a>\n",
    "## 2. Loading the Data\n",
    "<a class=\"anchor\" id=\"1.1\"></a>\n",
    "<a href=#cont>Back to Table of Contents</a>\n",
    "\n",
    "---\n",
    "    \n",
    "| ⚡ Description: Loading the data ⚡ |\n",
    "| :--------------------------- |\n",
    "| In this section we are loading the data from the `df_train` file into a DataFrame. |\n",
    "\n",
    "---"
   ]
  },
  {
   "cell_type": "markdown",
   "id": "ee7d41a7",
   "metadata": {},
   "source": [
    "Below we connect and load publicly available train and test data set from TEAM-CW3 data repository to train and test Pandas dataframes respectively "
   ]
  },
  {
   "cell_type": "code",
   "execution_count": 3,
   "id": "fbbb6c18",
   "metadata": {
    "ExecuteTime": {
     "end_time": "2021-06-28T08:49:35.311495Z",
     "start_time": "2021-06-28T08:49:35.295494Z"
    }
   },
   "outputs": [],
   "source": [
    "# connect and load train and test data sets\n",
    "df_train = pd.read_csv('https://raw.githubusercontent.com/TEAM-CW3/classification-predict-streamlit-data/main/train.csv') # load train data set\n",
    "df_test = pd.read_csv('https://raw.githubusercontent.com/TEAM-CW3/classification-predict-streamlit-data/main/test_with_no_labels.csv')  # load test data set\n",
    "df_train_copy = df_train.copy() # copy train data set"
   ]
  },
  {
   "cell_type": "markdown",
   "id": "81132ab3",
   "metadata": {},
   "source": [
    "<a id=\"three\"></a>\n",
    "## 3. Exploratory Data Analysis (EDA)\n",
    "<a class=\"anchor\" id=\"1.1\"></a>\n",
    "<a href=#cont>Back to Table of Contents</a>\n",
    "\n",
    "---\n",
    "    \n",
    "| ⚡ Description: Exploratory data analysis ⚡ |\n",
    "| :--------------------------- |\n",
    "| In this section, we are performing an in-depth analysis of all the variables in the DataFrame. |\n",
    "\n",
    "---\n"
   ]
  },
  {
   "cell_type": "markdown",
   "id": "21fde79a",
   "metadata": {},
   "source": [
    "Below we visualize the train data set to see the features and the target"
   ]
  },
  {
   "cell_type": "code",
   "execution_count": 4,
   "id": "e805134e",
   "metadata": {
    "ExecuteTime": {
     "end_time": "2021-06-28T08:52:37.824204Z",
     "start_time": "2021-06-28T08:52:37.811206Z"
    }
   },
   "outputs": [
    {
     "data": {
      "text/html": [
       "<div>\n",
       "<style scoped>\n",
       "    .dataframe tbody tr th:only-of-type {\n",
       "        vertical-align: middle;\n",
       "    }\n",
       "\n",
       "    .dataframe tbody tr th {\n",
       "        vertical-align: top;\n",
       "    }\n",
       "\n",
       "    .dataframe thead th {\n",
       "        text-align: right;\n",
       "    }\n",
       "</style>\n",
       "<table border=\"1\" class=\"dataframe\">\n",
       "  <thead>\n",
       "    <tr style=\"text-align: right;\">\n",
       "      <th></th>\n",
       "      <th>sentiment</th>\n",
       "      <th>message</th>\n",
       "      <th>tweetid</th>\n",
       "    </tr>\n",
       "  </thead>\n",
       "  <tbody>\n",
       "    <tr>\n",
       "      <th>0</th>\n",
       "      <td>1</td>\n",
       "      <td>PolySciMajor EPA chief doesn't think carbon di...</td>\n",
       "      <td>625221</td>\n",
       "    </tr>\n",
       "    <tr>\n",
       "      <th>1</th>\n",
       "      <td>1</td>\n",
       "      <td>It's not like we lack evidence of anthropogeni...</td>\n",
       "      <td>126103</td>\n",
       "    </tr>\n",
       "    <tr>\n",
       "      <th>2</th>\n",
       "      <td>2</td>\n",
       "      <td>RT @RawStory: Researchers say we have three ye...</td>\n",
       "      <td>698562</td>\n",
       "    </tr>\n",
       "    <tr>\n",
       "      <th>3</th>\n",
       "      <td>1</td>\n",
       "      <td>#TodayinMaker# WIRED : 2016 was a pivotal year...</td>\n",
       "      <td>573736</td>\n",
       "    </tr>\n",
       "    <tr>\n",
       "      <th>4</th>\n",
       "      <td>1</td>\n",
       "      <td>RT @SoyNovioDeTodas: It's 2016, and a racist, ...</td>\n",
       "      <td>466954</td>\n",
       "    </tr>\n",
       "  </tbody>\n",
       "</table>\n",
       "</div>"
      ],
      "text/plain": [
       "   sentiment                                            message  tweetid\n",
       "0          1  PolySciMajor EPA chief doesn't think carbon di...   625221\n",
       "1          1  It's not like we lack evidence of anthropogeni...   126103\n",
       "2          2  RT @RawStory: Researchers say we have three ye...   698562\n",
       "3          1  #TodayinMaker# WIRED : 2016 was a pivotal year...   573736\n",
       "4          1  RT @SoyNovioDeTodas: It's 2016, and a racist, ...   466954"
      ]
     },
     "execution_count": 4,
     "metadata": {},
     "output_type": "execute_result"
    }
   ],
   "source": [
    "# look at dataframe features\n",
    "df_train_copy.columns = [col.replace(\" \",\"_\") for col in df_train_copy.columns] # remove whitespace in feature names if any\n",
    "df_train_copy.head() # visualize train dataframe"
   ]
  },
  {
   "cell_type": "markdown",
   "id": "1c0049a3",
   "metadata": {},
   "source": [
    "Below we look at the features, number of observations per feature and the data type of the features"
   ]
  },
  {
   "cell_type": "code",
   "execution_count": 5,
   "id": "91b253c8",
   "metadata": {},
   "outputs": [
    {
     "name": "stdout",
     "output_type": "stream",
     "text": [
      "<class 'pandas.core.frame.DataFrame'>\n",
      "RangeIndex: 15819 entries, 0 to 15818\n",
      "Data columns (total 3 columns):\n",
      " #   Column     Non-Null Count  Dtype \n",
      "---  ------     --------------  ----- \n",
      " 0   sentiment  15819 non-null  int64 \n",
      " 1   message    15819 non-null  object\n",
      " 2   tweetid    15819 non-null  int64 \n",
      "dtypes: int64(2), object(1)\n",
      "memory usage: 370.9+ KB\n"
     ]
    }
   ],
   "source": [
    "# look at data types of features\n",
    "df_train_copy.info()"
   ]
  },
  {
   "cell_type": "markdown",
   "id": "f2998cbf",
   "metadata": {},
   "source": [
    "Below we inspect statistics of features for each sentiment by looking at total count of observations, unique amount of observations and the most frequent observations for each sentiment"
   ]
  },
  {
   "cell_type": "code",
   "execution_count": 6,
   "id": "fa896750",
   "metadata": {},
   "outputs": [
    {
     "data": {
      "text/html": [
       "<div>\n",
       "<style scoped>\n",
       "    .dataframe tbody tr th:only-of-type {\n",
       "        vertical-align: middle;\n",
       "    }\n",
       "\n",
       "    .dataframe tbody tr th {\n",
       "        vertical-align: top;\n",
       "    }\n",
       "\n",
       "    .dataframe thead th {\n",
       "        text-align: right;\n",
       "    }\n",
       "</style>\n",
       "<table border=\"1\" class=\"dataframe\">\n",
       "  <thead>\n",
       "    <tr style=\"text-align: right;\">\n",
       "      <th></th>\n",
       "      <th>sentiment</th>\n",
       "      <th>-1</th>\n",
       "      <th>0</th>\n",
       "      <th>1</th>\n",
       "      <th>2</th>\n",
       "    </tr>\n",
       "  </thead>\n",
       "  <tbody>\n",
       "    <tr>\n",
       "      <th rowspan=\"4\" valign=\"top\">message</th>\n",
       "      <th>count</th>\n",
       "      <td>1296</td>\n",
       "      <td>2353</td>\n",
       "      <td>8530</td>\n",
       "      <td>3640</td>\n",
       "    </tr>\n",
       "    <tr>\n",
       "      <th>unique</th>\n",
       "      <td>1222</td>\n",
       "      <td>2245</td>\n",
       "      <td>7224</td>\n",
       "      <td>3542</td>\n",
       "    </tr>\n",
       "    <tr>\n",
       "      <th>top</th>\n",
       "      <td>RT @realDonaldTrump: The concept of global war...</td>\n",
       "      <td>RT @ULTRAVlOLENCE: Interviewer: 'What do you t...</td>\n",
       "      <td>RT @StephenSchlegel: she's thinking about how ...</td>\n",
       "      <td>RT @business: China tells Trump climate change...</td>\n",
       "    </tr>\n",
       "    <tr>\n",
       "      <th>freq</th>\n",
       "      <td>22</td>\n",
       "      <td>20</td>\n",
       "      <td>307</td>\n",
       "      <td>12</td>\n",
       "    </tr>\n",
       "  </tbody>\n",
       "</table>\n",
       "</div>"
      ],
      "text/plain": [
       "sentiment                                                      -1  \\\n",
       "message count                                                1296   \n",
       "        unique                                               1222   \n",
       "        top     RT @realDonaldTrump: The concept of global war...   \n",
       "        freq                                                   22   \n",
       "\n",
       "sentiment                                                       0  \\\n",
       "message count                                                2353   \n",
       "        unique                                               2245   \n",
       "        top     RT @ULTRAVlOLENCE: Interviewer: 'What do you t...   \n",
       "        freq                                                   20   \n",
       "\n",
       "sentiment                                                       1  \\\n",
       "message count                                                8530   \n",
       "        unique                                               7224   \n",
       "        top     RT @StephenSchlegel: she's thinking about how ...   \n",
       "        freq                                                  307   \n",
       "\n",
       "sentiment                                                       2  \n",
       "message count                                                3640  \n",
       "        unique                                               3542  \n",
       "        top     RT @business: China tells Trump climate change...  \n",
       "        freq                                                   12  "
      ]
     },
     "execution_count": 6,
     "metadata": {},
     "output_type": "execute_result"
    }
   ],
   "source": [
    "# look at statistics for non-numerical features\n",
    "df_train.groupby('sentiment').describe(include=['object']).T"
   ]
  },
  {
   "cell_type": "markdown",
   "id": "32de8eb0",
   "metadata": {},
   "source": [
    "Below we inspect the number of rows and columns to view number of observations for each feature in the train data set"
   ]
  },
  {
   "cell_type": "code",
   "execution_count": 7,
   "id": "16996d13",
   "metadata": {},
   "outputs": [
    {
     "name": "stdout",
     "output_type": "stream",
     "text": [
      "Number of columns:  3\n",
      "-------------------\n",
      "Number of rows   :  15819\n"
     ]
    }
   ],
   "source": [
    "# look at number of columns and rows\n",
    "print('Number of columns: ', df_train_copy.shape[1])\n",
    "print('-------------------')\n",
    "print('Number of rows   : ', df_train_copy.shape[0])"
   ]
  },
  {
   "cell_type": "markdown",
   "id": "2143f1c9",
   "metadata": {},
   "source": [
    "Below we have a look at number data types collectively for all features"
   ]
  },
  {
   "cell_type": "code",
   "execution_count": 8,
   "id": "544bdcb8",
   "metadata": {},
   "outputs": [
    {
     "name": "stdout",
     "output_type": "stream",
     "text": [
      "Count number columns per data type:\n",
      "----------------------------------\n",
      "int64     2\n",
      "object    1\n",
      "dtype: int64\n",
      "----------------------------------\n"
     ]
    }
   ],
   "source": [
    "# look at number of data types\n",
    "print('Count number columns per data type:')\n",
    "print('----------------------------------')\n",
    "print(df_train_copy.dtypes.value_counts())\n",
    "print('----------------------------------')"
   ]
  },
  {
   "cell_type": "markdown",
   "id": "9a09222a",
   "metadata": {},
   "source": [
    "Below we look for missing values in the train data set for every column"
   ]
  },
  {
   "cell_type": "code",
   "execution_count": 9,
   "id": "752d7734",
   "metadata": {},
   "outputs": [
    {
     "data": {
      "image/png": "[encoded data removed]",
      "text/plain": [
       "<Figure size 648x720 with 1 Axes>"
      ]
     },
     "metadata": {},
     "output_type": "display_data"
    }
   ],
   "source": [
    "# plot missing values in train set\n",
    "ax = df_train_copy.isna().sum().sort_values().plot(kind = 'barh', figsize = (9, 10), color='tab:red')\n",
    "plt.title('Percentage of Missing Values Per Column in Train Set', fontdict={'size':18})\n",
    "for p in ax.patches:\n",
    "    percentage ='{:,.0f}%'.format((p.get_width()/df_train.shape[0])*100, fontdict={'size':18})\n",
    "    width, height =p.get_width(),p.get_height()\n",
    "    x=p.get_x()+width+0.02\n",
    "    y=p.get_y()+height/2\n",
    "    ax.annotate(percentage,(x,y))"
   ]
  },
  {
   "cell_type": "markdown",
   "id": "a54c82b2",
   "metadata": {},
   "source": [
    "Train data set has no empty values"
   ]
  },
  {
   "cell_type": "markdown",
   "id": "2776091b",
   "metadata": {},
   "source": [
    "Below we analyze the distributions of the feature (Tweets) per sentiment (Positive, Negative, Neutral, News)"
   ]
  },
  {
   "cell_type": "code",
   "execution_count": 10,
   "id": "2fb74182",
   "metadata": {},
   "outputs": [
    {
     "data": {
      "text/plain": [
       "Text(0, 0.5, 'Density')"
      ]
     },
     "execution_count": 10,
     "metadata": {},
     "output_type": "execute_result"
    },
    {
     "data": {
      "image/png": "[encoded data removed]",
      "text/plain": [
       "<Figure size 1440x720 with 4 Axes>"
      ]
     },
     "metadata": {},
     "output_type": "display_data"
    }
   ],
   "source": [
    "# distribution plots for sentiment\n",
    "fig,(ax1,ax2,ax3,ax4) = plt.subplots(1,4,figsize=(20,10))\n",
    "\n",
    "# positive\n",
    "sns.distplot(df_train_copy[df_train_copy['sentiment']==1]['message'].str.len(), hist=True, kde=True,\n",
    "             bins=int(200/25), color = 'red', \n",
    "             ax = ax1,\n",
    "             hist_kws={'edgecolor':'black'},\n",
    "             kde_kws={'linewidth': 4}) # set line graph pixels\n",
    "ax1.set_title('Positive') # set graph title\n",
    "ax1.set_xlabel('Message Length') # label the x-axis\n",
    "ax1.set_ylabel('Density') # label the y-axis\n",
    "\n",
    "# negative \n",
    "sns.distplot(df_train_copy[df_train_copy['sentiment']==-1]['message'].str.len(), hist=True, kde=True,\n",
    "             bins=int(200/25), color = 'black', \n",
    "             ax = ax2,\n",
    "             hist_kws={'edgecolor':'black'},\n",
    "             kde_kws={'linewidth': 4}) # set line graph pixels\n",
    "ax2.set_title('Negative ') # set graph title\n",
    "ax2.set_xlabel('Message Length') # label the x-axis\n",
    "ax2.set_ylabel('Density') # label the y-axis\n",
    "\n",
    "# neutral \n",
    "sns.distplot(df_train_copy[df_train_copy['sentiment']==0]['message'].str.len(), hist=True, kde=True,\n",
    "             bins=int(200/25), color = 'yellow',  \n",
    "             ax = ax3,\n",
    "             hist_kws={'edgecolor':'black'},\n",
    "             kde_kws={'linewidth': 4}) # set line graph pixels\n",
    "ax3.set_title('Neutral ') # set graph title\n",
    "ax3.set_xlabel('Message Length') # label the x-axis\n",
    "ax3.set_ylabel('Density') # label the y-axis\n",
    "\n",
    "# news\n",
    "sns.distplot(df_train_copy[df_train_copy['sentiment']==2]['message'].str.len(), hist=True, kde=True,\n",
    "             bins=int(200/25), color = 'blue', \n",
    "             ax = ax4,\n",
    "             hist_kws={'edgecolor':'black'},\n",
    "             kde_kws={'linewidth': 4}) # set line graph pixels\n",
    "ax4.set_title('News') # set graph title\n",
    "ax4.set_xlabel('Message Length') # label the x-axis\n",
    "ax4.set_ylabel('Density')  # label the y-axis"
   ]
  },
  {
   "cell_type": "markdown",
   "id": "966ab5b4",
   "metadata": {},
   "source": [
    "By observing the graphs you can see that the average length for all opinions is relatively the same, this may be due to that every tweet has a word limit. However when we comparing the density between negative and positive sentiments there is noticable difference. We will do more analysis to figure out what needs to be done at sentimental analysis stage.\n",
    "\n",
    "Color Key :\n",
    "\n",
    "- Red     : Positive\n",
    "- Black   : Negative\n",
    "- Neutral : Yellow\n",
    "- Blue    : News"
   ]
  },
  {
   "cell_type": "markdown",
   "id": "a12ad0bc",
   "metadata": {},
   "source": [
    "Below we look at the unique values of the sentiment"
   ]
  },
  {
   "cell_type": "code",
   "execution_count": 11,
   "id": "1544727a",
   "metadata": {},
   "outputs": [
    {
     "name": "stdout",
     "output_type": "stream",
     "text": [
      "Unique values in 'Sentiment' column: [ 1  2  0 -1]\n"
     ]
    }
   ],
   "source": [
    "# look at unique values in the columns that have object data type\n",
    "print('Unique values in \\'Sentiment\\' column: ' + str(df_train_copy.sentiment.unique()))"
   ]
  },
  {
   "cell_type": "markdown",
   "id": "7219c459",
   "metadata": {},
   "source": [
    "With the amount of unique values we can see that we have multi-class labels"
   ]
  },
  {
   "cell_type": "markdown",
   "id": "f2d73662",
   "metadata": {},
   "source": [
    "Below we have a look at feature distributions of observations by sentiment"
   ]
  },
  {
   "cell_type": "code",
   "execution_count": 12,
   "id": "de51df85",
   "metadata": {},
   "outputs": [
    {
     "name": "stdout",
     "output_type": "stream",
     "text": [
      "Distribution of messages per sentiment : \n"
     ]
    },
    {
     "data": {
      "text/html": [
       "<style type=\"text/css\">\n",
       "#T_347be_row0_col0 {\n",
       "  background-color: #e32f27;\n",
       "  color: #f1f1f1;\n",
       "}\n",
       "#T_347be_row0_col1, #T_347be_row1_col0 {\n",
       "  background-color: #67000d;\n",
       "  color: #f1f1f1;\n",
       "}\n",
       "#T_347be_row1_col1 {\n",
       "  background-color: #fca486;\n",
       "  color: #000000;\n",
       "}\n",
       "#T_347be_row2_col0 {\n",
       "  background-color: #fca082;\n",
       "  color: #000000;\n",
       "}\n",
       "#T_347be_row2_col1 {\n",
       "  background-color: #fedaca;\n",
       "  color: #000000;\n",
       "}\n",
       "#T_347be_row3_col0, #T_347be_row3_col1 {\n",
       "  background-color: #fff5f0;\n",
       "  color: #000000;\n",
       "}\n",
       "</style>\n",
       "<table id=\"T_347be\">\n",
       "  <thead>\n",
       "    <tr>\n",
       "      <th class=\"blank level0\" >&nbsp;</th>\n",
       "      <th id=\"T_347be_level0_col0\" class=\"col_heading level0 col0\" >sentiment</th>\n",
       "      <th id=\"T_347be_level0_col1\" class=\"col_heading level0 col1\" >message</th>\n",
       "    </tr>\n",
       "  </thead>\n",
       "  <tbody>\n",
       "    <tr>\n",
       "      <th id=\"T_347be_level0_row0\" class=\"row_heading level0 row0\" >2</th>\n",
       "      <td id=\"T_347be_row0_col0\" class=\"data row0 col0\" >1</td>\n",
       "      <td id=\"T_347be_row0_col1\" class=\"data row0 col1\" >8530</td>\n",
       "    </tr>\n",
       "    <tr>\n",
       "      <th id=\"T_347be_level0_row1\" class=\"row_heading level0 row1\" >3</th>\n",
       "      <td id=\"T_347be_row1_col0\" class=\"data row1 col0\" >2</td>\n",
       "      <td id=\"T_347be_row1_col1\" class=\"data row1 col1\" >3640</td>\n",
       "    </tr>\n",
       "    <tr>\n",
       "      <th id=\"T_347be_level0_row2\" class=\"row_heading level0 row2\" >1</th>\n",
       "      <td id=\"T_347be_row2_col0\" class=\"data row2 col0\" >0</td>\n",
       "      <td id=\"T_347be_row2_col1\" class=\"data row2 col1\" >2353</td>\n",
       "    </tr>\n",
       "    <tr>\n",
       "      <th id=\"T_347be_level0_row3\" class=\"row_heading level0 row3\" >0</th>\n",
       "      <td id=\"T_347be_row3_col0\" class=\"data row3 col0\" >-1</td>\n",
       "      <td id=\"T_347be_row3_col1\" class=\"data row3 col1\" >1296</td>\n",
       "    </tr>\n",
       "  </tbody>\n",
       "</table>\n"
      ],
      "text/plain": [
       "<pandas.io.formats.style.Styler at 0x2107eb4a440>"
      ]
     },
     "execution_count": 12,
     "metadata": {},
     "output_type": "execute_result"
    }
   ],
   "source": [
    "# have a look at feature distributions\n",
    "print(\"Distribution of messages per sentiment : \")\n",
    "count = df_train_copy.groupby(\"sentiment\").count()[\"message\"].reset_index().sort_values(by=\"message\", ascending=False)\n",
    "count.style.background_gradient(cmap=\"Reds\")\n",
    "# df_train_copy.set_index(\"sentiment\", inplace=True)"
   ]
  },
  {
   "cell_type": "markdown",
   "id": "eb9ddfef",
   "metadata": {},
   "source": [
    "Analysis proof is as follows:\n",
    "\n",
    "- 1 Positive tweets: there is 8530 tweets that support the belief of man-made climate changes.\n",
    "\n",
    "- -1 Negative tweets: there is 1296 tweets that does not support the believe in man-made climate changes.\n",
    "\n",
    "- 0 Neutral tweets: there 2353 tweets that neither support nor refute the belief of man-made climate changes.\n",
    "\n",
    "- 2 News tweets: there 3640 tweets that link to factual news about climate changes."
   ]
  },
  {
   "cell_type": "code",
   "execution_count": 13,
   "id": "1f108f2e",
   "metadata": {},
   "outputs": [],
   "source": [
    "working_df = df_train_copy\n",
    "# labeling the target\n",
    "working_df['sentiment'] = [['Negative', 'Neutral', 'Positive', 'News'][x+1] for x in working_df['sentiment']]"
   ]
  },
  {
   "cell_type": "markdown",
   "id": "a001b051",
   "metadata": {},
   "source": [
    "Below we look at the percentage of messages per sentiment out of the total message"
   ]
  },
  {
   "cell_type": "code",
   "execution_count": 14,
   "id": "5ce0af37",
   "metadata": {},
   "outputs": [
    {
     "data": {
      "image/png": "[encoded data removed]",
      "text/plain": [
       "<Figure size 432x288 with 1 Axes>"
      ]
     },
     "metadata": {},
     "output_type": "display_data"
    }
   ],
   "source": [
    "# observing numerical distribution\n",
    "values = working_df['sentiment'].value_counts()/working_df.shape[0]\n",
    "labels = (working_df['sentiment'].value_counts()/working_df.shape[0]).index\n",
    "colors = ['red', 'green', 'yellow', 'blue']\n",
    "plt.pie(x=values, labels=labels, autopct='%1.1f%%', startangle=90, explode=(0.03, 0, 0, 0), colors=colors)\n",
    "plt.show(20,20)"
   ]
  },
  {
   "cell_type": "markdown",
   "id": "b65dd714",
   "metadata": {},
   "source": [
    "The train data set consists of an uneven percentage of data distribution between the sentiment classification values.\n",
    "\n",
    "- Positive tweets consists of 53.92% of the total tweets.\n",
    "\n",
    "- Negative tweets consists of 8.19% of the total tweets.\n",
    "\n",
    "- Neutral tweets consists 14.87% of the total tweets.\n",
    "\n",
    "- News tweets consists 23.02% of the total tweets.\n",
    "\n",
    "After observing our Pie-Chart above you can see than more than half of the sample tweets come from positive sentiments, tweets from sentiment that do not believe in man-made climate change are the least and News are the second most popular."
   ]
  },
  {
   "cell_type": "code",
   "execution_count": 15,
   "id": "8ca14929",
   "metadata": {},
   "outputs": [],
   "source": [
    "full_text = ' '.join(df_train_copy['message'])"
   ]
  },
  {
   "cell_type": "code",
   "execution_count": 16,
   "id": "6b1de426",
   "metadata": {},
   "outputs": [],
   "source": [
    "# wc = WordCloud(background_color='white')\n",
    "# img = wc.generate(full_text)\n",
    "# plt.figure(figsize=(20,10))\n",
    "# plt.imshow(img)\n",
    "# plt.axis('off')\n",
    "# plt.show()"
   ]
  },
  {
   "cell_type": "code",
   "execution_count": 17,
   "id": "64729295",
   "metadata": {},
   "outputs": [],
   "source": [
    "gb = df_train.groupby('sentiment') # get the groupby object"
   ]
  },
  {
   "cell_type": "code",
   "execution_count": 18,
   "id": "a29240c4",
   "metadata": {},
   "outputs": [],
   "source": [
    "Positive = ''.join(gb.get_group(1)['message']) # extract messages from the positive sentiment\n",
    "Negative = ''.join(gb.get_group(-1)['message']) # extract messages from the negative sentiment\n",
    "Neutral = ''.join(gb.get_group(0)['message']) # extract messages from the neutral sentiment\n",
    "News = ''.join(gb.get_group(2)['message']) # extract messages from the news sentiment"
   ]
  },
  {
   "cell_type": "code",
   "execution_count": 19,
   "id": "4884d3ca",
   "metadata": {},
   "outputs": [],
   "source": [
    "# wc = WordCloud(background_color='red')\n",
    "# img = wc.generate(Positive)\n",
    "# plt.figure(figsize=(20,10))\n",
    "# plt.imshow(img)\n",
    "# plt.axis('off')\n",
    "# plt.show()"
   ]
  },
  {
   "cell_type": "markdown",
   "id": "93ed0baf",
   "metadata": {},
   "source": [
    "gb = df_train.groupby('sentiment')"
   ]
  },
  {
   "cell_type": "code",
   "execution_count": 20,
   "id": "4ba4d9bc",
   "metadata": {},
   "outputs": [],
   "source": [
    "# wc = WordCloud(background_color='blue')\n",
    "# img = wc.generate(Negative)\n",
    "# plt.figure(figsize=(20,10))\n",
    "# plt.imshow(img)\n",
    "# plt.axis('off')\n",
    "# plt.show()"
   ]
  },
  {
   "cell_type": "code",
   "execution_count": 21,
   "id": "77b1cbe1",
   "metadata": {},
   "outputs": [],
   "source": [
    "# wc = WordCloud(background_color='yellow')\n",
    "# img = wc.generate(Neutral)\n",
    "# plt.figure(figsize=(20,10))\n",
    "# plt.imshow(img)\n",
    "# plt.axis('off')\n",
    "# plt.show()"
   ]
  },
  {
   "cell_type": "code",
   "execution_count": 22,
   "id": "1d0a3e75",
   "metadata": {},
   "outputs": [],
   "source": [
    "# wc = WordCloud(background_color='green')\n",
    "# img = wc.generate(News)\n",
    "# plt.figure(figsize=(20,10))\n",
    "# plt.imshow(img)\n",
    "# plt.axis('off')\n",
    "# plt.show()"
   ]
  },
  {
   "cell_type": "markdown",
   "id": "3fa93ec6",
   "metadata": {},
   "source": [
    "<a id=\"four\"></a>\n",
    "## 4. Sentiment Analysis\n",
    "<a class=\"anchor\" id=\"1.1\"></a>\n",
    "<a href=#cont>Back to Table of Contents</a>\n",
    "\n",
    "---\n",
    "    \n",
    "| ⚡ Description: Sentiment Analysis ⚡ |\n",
    "| :--------------------------- |\n",
    "| In this section we do sentiment analysis, and possibly create new features - as identified in the EDA phase. |\n",
    "\n",
    "---"
   ]
  },
  {
   "cell_type": "code",
   "execution_count": 23,
   "id": "8a9acca2",
   "metadata": {},
   "outputs": [
    {
     "name": "stdout",
     "output_type": "stream",
     "text": [
      "Number of features in [stem]: 10668\n"
     ]
    }
   ],
   "source": [
    "stem = df_train['message']\n",
    "stem_vectrz = CountVectorizer(ngram_range=(1, 2), min_df=5, max_df=0.5)\n",
    "stem_msg_vec = stem_vectrz.fit_transform(stem)\n",
    "print('Number of features in [stem]:', len(stem_vectrz.get_feature_names()))\n",
    "X_stem = stem_msg_vec\n",
    "y = df_train['sentiment']"
   ]
  },
  {
   "cell_type": "code",
   "execution_count": 24,
   "id": "4f365b64",
   "metadata": {},
   "outputs": [],
   "source": [
    "X_train, X_test, y_train, y_test = train_test_split(X_stem, y, test_size=0.2, random_state=42)"
   ]
  },
  {
   "cell_type": "markdown",
   "id": "43b2d523",
   "metadata": {},
   "source": [
    "<a id=\"five\"></a>\n",
    "## 5. Modelling\n",
    "<a class=\"anchor\" id=\"1.1\"></a>\n",
    "<a href=#cont>Back to Table of Contents</a>\n",
    "\n",
    "---\n",
    "    \n",
    "| ⚡ Description: Modelling ⚡ |\n",
    "| :--------------------------- |\n",
    "| In this section, we create one or more classification models that are able to accurately classify if people believe in climate change or not. |\n",
    "\n",
    "---"
   ]
  },
  {
   "cell_type": "markdown",
   "id": "3ebf605f",
   "metadata": {},
   "source": [
    "SupportVector Classifier:"
   ]
  },
  {
   "cell_type": "code",
   "execution_count": null,
   "id": "3200e66f",
   "metadata": {
    "scrolled": true
   },
   "outputs": [],
   "source": [
    "SW_uni = SVC(C = 0.1, degree = 1, kernel = 'linear')\n",
    "SW_uni.fit(X_train,y_train)\n",
    "y_pred = SW_uni.predict(X_test)\n",
    "# print(classification_report(y_test, y_pred))"
   ]
  },
  {
   "cell_type": "markdown",
   "id": "7a977d30",
   "metadata": {},
   "source": [
    "LogisticRegression Classifier:"
   ]
  },
  {
   "cell_type": "code",
   "execution_count": 58,
   "id": "e1330784",
   "metadata": {},
   "outputs": [],
   "source": [
    "LFC = LogisticRegression()\n",
    "LFC.fit(X_train,y_train)\n",
    "y_pred = LFC.predict(X_test)\n",
    "# print(classification_report(y_test, y_pred))"
   ]
  },
  {
   "cell_type": "markdown",
   "id": "13d0348c",
   "metadata": {},
   "source": [
    "RandomForest Classifier:"
   ]
  },
  {
   "cell_type": "code",
   "execution_count": 59,
   "id": "09669588",
   "metadata": {},
   "outputs": [],
   "source": [
    "RFC = RandomForestClassifier() \n",
    "RFC.fit(X_train,y_train)\n",
    "y_pred = RFC.predict(X_test)\n",
    "# print(classification_report(y_test, y_pred))"
   ]
  },
  {
   "cell_type": "markdown",
   "id": "3868106b",
   "metadata": {},
   "source": [
    "Linear SupportVector Classifier:"
   ]
  },
  {
   "cell_type": "code",
   "execution_count": 60,
   "id": "08bafbe1",
   "metadata": {},
   "outputs": [],
   "source": [
    "LSC = LinearSVC(C=0.1, class_weight='balanced',max_iter=1800)\n",
    "LSC.fit(X_train,y_train)\n",
    "y_pred = LSC.predict(X_test)\n",
    "# print(classification_report(y_test, y_pred))"
   ]
  },
  {
   "cell_type": "markdown",
   "id": "e1890e8b",
   "metadata": {},
   "source": [
    "GradientBoosting Classifier:"
   ]
  },
  {
   "cell_type": "code",
   "execution_count": 61,
   "id": "8615b584",
   "metadata": {},
   "outputs": [],
   "source": [
    "from sklearn.ensemble import GradientBoostingClassifier\n",
    "clfs = GradientBoostingClassifier()\n",
    "clfs.fit(X_train,y_train)\n",
    "y_pred = clfs.predict(X_test)\n",
    "# print(classification_report(y_test, y_pred))"
   ]
  },
  {
   "cell_type": "markdown",
   "id": "114a70e2",
   "metadata": {},
   "source": [
    "AdaBoost Classifier:"
   ]
  },
  {
   "cell_type": "code",
   "execution_count": 62,
   "id": "eaa424b3",
   "metadata": {},
   "outputs": [],
   "source": [
    "from sklearn.ensemble import AdaBoostClassifier\n",
    "cl = AdaBoostClassifier()\n",
    "cl.fit(X_train,y_train)\n",
    "y_pred = cl.predict(X_test)\n",
    "# print(classification_report(y_test, y_pred))"
   ]
  },
  {
   "cell_type": "markdown",
   "id": "8a6415cd",
   "metadata": {},
   "source": [
    "CatBoost Classifier:"
   ]
  },
  {
   "cell_type": "code",
   "execution_count": 74,
   "id": "938d0500",
   "metadata": {},
   "outputs": [
    {
     "name": "stdout",
     "output_type": "stream",
     "text": [
      "0:\tlearn: 1.3804757\ttotal: 269ms\tremaining: 7.81s\n",
      "1:\tlearn: 1.3740893\ttotal: 538ms\tremaining: 7.54s\n",
      "2:\tlearn: 1.3679508\ttotal: 780ms\tremaining: 7.02s\n",
      "3:\tlearn: 1.3621519\ttotal: 1.03s\tremaining: 6.72s\n",
      "4:\tlearn: 1.3565034\ttotal: 1.29s\tremaining: 6.48s\n",
      "5:\tlearn: 1.3507615\ttotal: 1.55s\tremaining: 6.21s\n",
      "6:\tlearn: 1.3447823\ttotal: 1.79s\tremaining: 5.88s\n",
      "7:\tlearn: 1.3394700\ttotal: 2.05s\tremaining: 5.63s\n",
      "8:\tlearn: 1.3341375\ttotal: 2.3s\tremaining: 5.38s\n",
      "9:\tlearn: 1.3293381\ttotal: 2.59s\tremaining: 5.18s\n",
      "10:\tlearn: 1.3244419\ttotal: 2.84s\tremaining: 4.91s\n",
      "11:\tlearn: 1.3193319\ttotal: 3.1s\tremaining: 4.65s\n",
      "12:\tlearn: 1.3144100\ttotal: 3.35s\tremaining: 4.38s\n",
      "13:\tlearn: 1.3100665\ttotal: 3.63s\tremaining: 4.15s\n",
      "14:\tlearn: 1.3053650\ttotal: 3.89s\tremaining: 3.89s\n",
      "15:\tlearn: 1.3006838\ttotal: 4.13s\tremaining: 3.62s\n",
      "16:\tlearn: 1.2963105\ttotal: 4.38s\tremaining: 3.35s\n",
      "17:\tlearn: 1.2915703\ttotal: 4.64s\tremaining: 3.09s\n",
      "18:\tlearn: 1.2875557\ttotal: 4.87s\tremaining: 2.82s\n",
      "19:\tlearn: 1.2834811\ttotal: 5.13s\tremaining: 2.56s\n",
      "20:\tlearn: 1.2795203\ttotal: 5.38s\tremaining: 2.31s\n",
      "21:\tlearn: 1.2754661\ttotal: 5.63s\tremaining: 2.05s\n",
      "22:\tlearn: 1.2717466\ttotal: 5.88s\tremaining: 1.79s\n",
      "23:\tlearn: 1.2682200\ttotal: 6.15s\tremaining: 1.54s\n",
      "24:\tlearn: 1.2645466\ttotal: 6.43s\tremaining: 1.29s\n",
      "25:\tlearn: 1.2609487\ttotal: 6.7s\tremaining: 1.03s\n",
      "26:\tlearn: 1.2573628\ttotal: 6.94s\tremaining: 771ms\n",
      "27:\tlearn: 1.2538809\ttotal: 7.23s\tremaining: 516ms\n",
      "28:\tlearn: 1.2502717\ttotal: 7.48s\tremaining: 258ms\n",
      "29:\tlearn: 1.2471032\ttotal: 7.74s\tremaining: 0us\n"
     ]
    }
   ],
   "source": [
    "import catboost\n",
    "from catboost import CatBoostClassifier\n",
    "CBC = CatBoostClassifier(depth= 9,iterations = 30,learning_rate= 0.01)\n",
    "CBC.fit(X_train,y_train)\n",
    "y_pred = CBC.predict(X_test)\n",
    "# print(classification_report(y_test, y_pred))"
   ]
  },
  {
   "cell_type": "markdown",
   "id": "d0a35759",
   "metadata": {},
   "source": [
    "Stacking Classifier:"
   ]
  },
  {
   "cell_type": "code",
   "execution_count": 49,
   "id": "b2a80f7b",
   "metadata": {},
   "outputs": [],
   "source": [
    "from sklearn.ensemble import StackingClassifier\n",
    "sc = StackingClassifier(\n",
    "    estimators=[  \n",
    "        ('LSC', LSC), \n",
    "        ('LFC', LFC),\n",
    "        ('SW_uni', SW_uni)\n",
    "    ],\n",
    "    final_estimator=CBC,\n",
    "    n_jobs=1,\n",
    "    passthrough=True,\n",
    ")"
   ]
  },
  {
   "cell_type": "code",
   "execution_count": 75,
   "id": "a85889f6",
   "metadata": {},
   "outputs": [
    {
     "name": "stdout",
     "output_type": "stream",
     "text": [
      "0:\tlearn: 1.3721905\ttotal: 328ms\tremaining: 9.51s\n",
      "1:\tlearn: 1.3585669\ttotal: 635ms\tremaining: 8.88s\n",
      "2:\tlearn: 1.3457159\ttotal: 1.15s\tremaining: 10.3s\n",
      "3:\tlearn: 1.3326154\ttotal: 1.47s\tremaining: 9.52s\n",
      "4:\tlearn: 1.3204204\ttotal: 1.85s\tremaining: 9.27s\n",
      "5:\tlearn: 1.3079182\ttotal: 2.17s\tremaining: 8.68s\n",
      "6:\tlearn: 1.2959408\ttotal: 2.5s\tremaining: 8.21s\n",
      "7:\tlearn: 1.2844876\ttotal: 2.81s\tremaining: 7.72s\n",
      "8:\tlearn: 1.2736318\ttotal: 3.1s\tremaining: 7.24s\n",
      "9:\tlearn: 1.2628193\ttotal: 3.42s\tremaining: 6.84s\n",
      "10:\tlearn: 1.2520330\ttotal: 3.71s\tremaining: 6.42s\n",
      "11:\tlearn: 1.2417942\ttotal: 4.18s\tremaining: 6.27s\n",
      "12:\tlearn: 1.2316606\ttotal: 4.81s\tremaining: 6.29s\n",
      "13:\tlearn: 1.2217910\ttotal: 5.54s\tremaining: 6.34s\n",
      "14:\tlearn: 1.2124758\ttotal: 6.26s\tremaining: 6.26s\n",
      "15:\tlearn: 1.2032586\ttotal: 6.9s\tremaining: 6.04s\n",
      "16:\tlearn: 1.1945122\ttotal: 7.54s\tremaining: 5.76s\n",
      "17:\tlearn: 1.1856740\ttotal: 8.16s\tremaining: 5.44s\n",
      "18:\tlearn: 1.1769240\ttotal: 8.77s\tremaining: 5.08s\n",
      "19:\tlearn: 1.1686906\ttotal: 9.38s\tremaining: 4.69s\n",
      "20:\tlearn: 1.1604949\ttotal: 10s\tremaining: 4.28s\n",
      "21:\tlearn: 1.1524868\ttotal: 10.6s\tremaining: 3.86s\n",
      "22:\tlearn: 1.1446569\ttotal: 11.3s\tremaining: 3.43s\n",
      "23:\tlearn: 1.1368281\ttotal: 11.9s\tremaining: 2.98s\n",
      "24:\tlearn: 1.1293271\ttotal: 12.6s\tremaining: 2.51s\n",
      "25:\tlearn: 1.1219222\ttotal: 13.2s\tremaining: 2.03s\n",
      "26:\tlearn: 1.1146404\ttotal: 13.8s\tremaining: 1.54s\n",
      "27:\tlearn: 1.1074388\ttotal: 14.4s\tremaining: 1.03s\n",
      "28:\tlearn: 1.1003320\ttotal: 15.1s\tremaining: 519ms\n",
      "29:\tlearn: 1.0938054\ttotal: 15.7s\tremaining: 0us\n"
     ]
    }
   ],
   "source": [
    "sc.fit(X_train,y_train)\n",
    "y_pred = sc.predict(X_test)\n",
    "# print(classification_report(y_test, y_pred))"
   ]
  },
  {
   "cell_type": "code",
   "execution_count": 32,
   "id": "0b66466b",
   "metadata": {},
   "outputs": [],
   "source": [
    "def preprocess(df: pd.DataFrame):\n",
    "    return stem_vectrz.transform(df['message'])"
   ]
  },
  {
   "cell_type": "code",
   "execution_count": 33,
   "id": "227c1f2c",
   "metadata": {},
   "outputs": [],
   "source": [
    "def generate_submission(model, pred_X):\n",
    "    y_pred = model.predict(pred_X) # prediction\n",
    "    submission = { # submission\n",
    "        \"tweetid\": df_test['tweetid'].values,\n",
    "        \"sentiment\": y_pred,\n",
    "    }\n",
    "    return pd.DataFrame(submission).set_index('tweetid')"
   ]
  },
  {
   "cell_type": "code",
   "execution_count": 34,
   "id": "1fd15d45",
   "metadata": {},
   "outputs": [],
   "source": [
    "pred_X = preprocess(df_test)"
   ]
  },
  {
   "cell_type": "code",
   "execution_count": 35,
   "id": "e824b02b",
   "metadata": {},
   "outputs": [
    {
     "data": {
      "text/plain": [
       "(10546, 10668)"
      ]
     },
     "execution_count": 35,
     "metadata": {},
     "output_type": "execute_result"
    }
   ],
   "source": [
    "pred_X.shape"
   ]
  },
  {
   "cell_type": "code",
   "execution_count": 36,
   "id": "0b9e0762",
   "metadata": {},
   "outputs": [
    {
     "name": "stdout",
     "output_type": "stream",
     "text": [
      "Submission Generated\n"
     ]
    }
   ],
   "source": [
    "submit_df = generate_submission(sc, pred_X)\n",
    "submit_df.to_csv('SC.csv')\n",
    "print(\"Submission Generated\")"
   ]
  },
  {
   "cell_type": "code",
   "execution_count": null,
   "id": "a05304d6",
   "metadata": {},
   "outputs": [],
   "source": [
    "# import pickle\n",
    "\n",
    "# model_save_path = \"CW3.pkl\"\n",
    "# with open(model_save_path,'wb') as file:\n",
    "#     pickle.dump(CW3,file)"
   ]
  },
  {
   "cell_type": "markdown",
   "id": "6b530251",
   "metadata": {},
   "source": [
    "<a id=\"six\"></a>\n",
    "## 6. Model Performance\n",
    "<a class=\"anchor\" id=\"1.1\"></a>\n",
    "<a href=#cont>Back to Table of Contents</a>\n",
    "\n",
    "---\n",
    "    \n",
    "| ⚡ Description: Model performance ⚡ |\n",
    "| :--------------------------- |\n",
    "| In this section you are required to compare the relative performance of the various trained ML models on a holdout dataset and comment on what model is the best and why. |\n",
    "\n",
    "---"
   ]
  },
  {
   "cell_type": "markdown",
   "id": "c3490a85",
   "metadata": {},
   "source": [
    "##### The Linear Support Vector Classifier (SVC):\n"
   ]
  },
  {
   "cell_type": "code",
   "execution_count": 40,
   "id": "5fed1029",
   "metadata": {},
   "outputs": [
    {
     "name": "stdout",
     "output_type": "stream",
     "text": [
      "              precision    recall  f1-score   support\n",
      "\n",
      "          -1       0.59      0.57      0.58       278\n",
      "           0       0.47      0.57      0.52       425\n",
      "           1       0.84      0.78      0.81      1755\n",
      "           2       0.75      0.81      0.78       706\n",
      "\n",
      "    accuracy                           0.74      3164\n",
      "   macro avg       0.66      0.68      0.67      3164\n",
      "weighted avg       0.75      0.74      0.74      3164\n",
      "\n"
     ]
    }
   ],
   "source": [
    "LSC = LinearSVC(C=0.1, class_weight='balanced',max_iter=1800)\n",
    "LSC.fit(X_train,y_train)\n",
    "y_pred = LSC.predict(X_test)\n",
    "print(classification_report(y_test, y_pred))"
   ]
  },
  {
   "cell_type": "markdown",
   "id": "1454d230",
   "metadata": {},
   "source": [
    "##### LogisticRegression Classifier:"
   ]
  },
  {
   "cell_type": "code",
   "execution_count": 46,
   "id": "2639995c",
   "metadata": {},
   "outputs": [
    {
     "name": "stdout",
     "output_type": "stream",
     "text": [
      "              precision    recall  f1-score   support\n",
      "\n",
      "          -1       0.70      0.49      0.57       278\n",
      "           0       0.50      0.49      0.50       425\n",
      "           1       0.80      0.85      0.82      1755\n",
      "           2       0.79      0.78      0.78       706\n",
      "\n",
      "    accuracy                           0.75      3164\n",
      "   macro avg       0.70      0.65      0.67      3164\n",
      "weighted avg       0.75      0.75      0.75      3164\n",
      "\n"
     ]
    }
   ],
   "source": [
    "LFC = LogisticRegression()\n",
    "LFC.fit(X_train,y_train)\n",
    "y_pred = LFC.predict(X_test)\n",
    "print(classification_report(y_test, y_pred))"
   ]
  },
  {
   "cell_type": "markdown",
   "id": "23a8b3e9",
   "metadata": {},
   "source": [
    "##### RandomForest Classifier:"
   ]
  },
  {
   "cell_type": "code",
   "execution_count": 47,
   "id": "6157bb39",
   "metadata": {},
   "outputs": [
    {
     "name": "stdout",
     "output_type": "stream",
     "text": [
      "              precision    recall  f1-score   support\n",
      "\n",
      "          -1       0.84      0.27      0.40       278\n",
      "           0       0.55      0.32      0.40       425\n",
      "           1       0.72      0.91      0.80      1755\n",
      "           2       0.80      0.68      0.74       706\n",
      "\n",
      "    accuracy                           0.72      3164\n",
      "   macro avg       0.73      0.54      0.59      3164\n",
      "weighted avg       0.72      0.72      0.70      3164\n",
      "\n"
     ]
    }
   ],
   "source": [
    "RFC.fit(X_train,y_train)\n",
    "y_pred = RFC.predict(X_test)\n",
    "print(classification_report(y_test, y_pred))"
   ]
  },
  {
   "cell_type": "markdown",
   "id": "07023d40",
   "metadata": {},
   "source": [
    "##### GradientBoosting Classifier:"
   ]
  },
  {
   "cell_type": "code",
   "execution_count": 42,
   "id": "d2092d7b",
   "metadata": {},
   "outputs": [
    {
     "name": "stdout",
     "output_type": "stream",
     "text": [
      "              precision    recall  f1-score   support\n",
      "\n",
      "          -1       0.87      0.26      0.40       278\n",
      "           0       0.65      0.24      0.35       425\n",
      "           1       0.68      0.92      0.78      1755\n",
      "           2       0.75      0.57      0.65       706\n",
      "\n",
      "    accuracy                           0.69      3164\n",
      "   macro avg       0.74      0.50      0.55      3164\n",
      "weighted avg       0.71      0.69      0.66      3164\n",
      "\n"
     ]
    }
   ],
   "source": [
    "clfs.fit(X_train,y_train)\n",
    "y_pred = clfs.predict(X_test)\n",
    "print(classification_report(y_test, y_pred))"
   ]
  },
  {
   "cell_type": "markdown",
   "id": "f60eadf8",
   "metadata": {},
   "source": [
    "##### CatBoost Classifier:"
   ]
  },
  {
   "cell_type": "code",
   "execution_count": 54,
   "id": "4cf46050",
   "metadata": {},
   "outputs": [
    {
     "name": "stdout",
     "output_type": "stream",
     "text": [
      "0:\tlearn: 1.3804757\ttotal: 283ms\tremaining: 8.22s\n",
      "1:\tlearn: 1.3740893\ttotal: 547ms\tremaining: 7.65s\n",
      "2:\tlearn: 1.3679508\ttotal: 792ms\tremaining: 7.12s\n",
      "3:\tlearn: 1.3621519\ttotal: 1.07s\tremaining: 6.94s\n",
      "4:\tlearn: 1.3565034\ttotal: 1.33s\tremaining: 6.64s\n",
      "5:\tlearn: 1.3507615\ttotal: 1.6s\tremaining: 6.41s\n",
      "6:\tlearn: 1.3447823\ttotal: 1.88s\tremaining: 6.17s\n",
      "7:\tlearn: 1.3394700\ttotal: 2.15s\tremaining: 5.92s\n",
      "8:\tlearn: 1.3341375\ttotal: 2.4s\tremaining: 5.6s\n",
      "9:\tlearn: 1.3293381\ttotal: 2.66s\tremaining: 5.32s\n",
      "10:\tlearn: 1.3244419\ttotal: 2.94s\tremaining: 5.07s\n",
      "11:\tlearn: 1.3193319\ttotal: 3.2s\tremaining: 4.8s\n",
      "12:\tlearn: 1.3144100\ttotal: 3.46s\tremaining: 4.52s\n",
      "13:\tlearn: 1.3100665\ttotal: 3.69s\tremaining: 4.22s\n",
      "14:\tlearn: 1.3053650\ttotal: 3.95s\tremaining: 3.95s\n",
      "15:\tlearn: 1.3006838\ttotal: 4.18s\tremaining: 3.66s\n",
      "16:\tlearn: 1.2963105\ttotal: 4.45s\tremaining: 3.41s\n",
      "17:\tlearn: 1.2915703\ttotal: 4.69s\tremaining: 3.12s\n",
      "18:\tlearn: 1.2875557\ttotal: 4.96s\tremaining: 2.87s\n",
      "19:\tlearn: 1.2834811\ttotal: 5.24s\tremaining: 2.62s\n",
      "20:\tlearn: 1.2795203\ttotal: 5.53s\tremaining: 2.37s\n",
      "21:\tlearn: 1.2754661\ttotal: 5.8s\tremaining: 2.11s\n",
      "22:\tlearn: 1.2717466\ttotal: 6.05s\tremaining: 1.84s\n",
      "23:\tlearn: 1.2682200\ttotal: 6.33s\tremaining: 1.58s\n",
      "24:\tlearn: 1.2645466\ttotal: 6.61s\tremaining: 1.32s\n",
      "25:\tlearn: 1.2609487\ttotal: 6.87s\tremaining: 1.06s\n",
      "26:\tlearn: 1.2573628\ttotal: 7.13s\tremaining: 792ms\n",
      "27:\tlearn: 1.2538809\ttotal: 7.4s\tremaining: 529ms\n",
      "28:\tlearn: 1.2502717\ttotal: 7.68s\tremaining: 265ms\n",
      "29:\tlearn: 1.2471032\ttotal: 7.96s\tremaining: 0us\n",
      "              precision    recall  f1-score   support\n",
      "\n",
      "          -1       0.00      0.00      0.00       278\n",
      "           0       0.00      0.00      0.00       425\n",
      "           1       0.56      1.00      0.72      1755\n",
      "           2       0.86      0.06      0.12       706\n",
      "\n",
      "    accuracy                           0.57      3164\n",
      "   macro avg       0.36      0.26      0.21      3164\n",
      "weighted avg       0.50      0.57      0.42      3164\n",
      "\n"
     ]
    }
   ],
   "source": [
    "CBC = CatBoostClassifier(depth= 9,iterations = 30,learning_rate= 0.01)\n",
    "CBC.fit(X_train,y_train)\n",
    "y_pred = CBC.predict(X_test)\n",
    "print(classification_report(y_test, y_pred))"
   ]
  },
  {
   "cell_type": "markdown",
   "id": "d165ed0c",
   "metadata": {},
   "source": [
    "##### Stacking Classifier:"
   ]
  },
  {
   "cell_type": "code",
   "execution_count": 55,
   "id": "9d37b3b1",
   "metadata": {},
   "outputs": [
    {
     "name": "stdout",
     "output_type": "stream",
     "text": [
      "0:\tlearn: 1.3721905\ttotal: 296ms\tremaining: 8.6s\n",
      "1:\tlearn: 1.3585669\ttotal: 591ms\tremaining: 8.27s\n",
      "2:\tlearn: 1.3457159\ttotal: 898ms\tremaining: 8.08s\n",
      "3:\tlearn: 1.3326154\ttotal: 1.2s\tremaining: 7.83s\n",
      "4:\tlearn: 1.3204204\ttotal: 1.54s\tremaining: 7.72s\n",
      "5:\tlearn: 1.3079182\ttotal: 1.86s\tremaining: 7.46s\n",
      "6:\tlearn: 1.2959408\ttotal: 2.21s\tremaining: 7.26s\n",
      "7:\tlearn: 1.2844876\ttotal: 2.54s\tremaining: 6.98s\n",
      "8:\tlearn: 1.2736318\ttotal: 2.88s\tremaining: 6.71s\n",
      "9:\tlearn: 1.2628193\ttotal: 3.21s\tremaining: 6.42s\n",
      "10:\tlearn: 1.2520330\ttotal: 3.53s\tremaining: 6.1s\n",
      "11:\tlearn: 1.2417942\ttotal: 3.86s\tremaining: 5.79s\n",
      "12:\tlearn: 1.2316606\ttotal: 4.19s\tremaining: 5.48s\n",
      "13:\tlearn: 1.2217910\ttotal: 4.51s\tremaining: 5.16s\n",
      "14:\tlearn: 1.2124758\ttotal: 4.85s\tremaining: 4.85s\n",
      "15:\tlearn: 1.2032586\ttotal: 5.16s\tremaining: 4.51s\n",
      "16:\tlearn: 1.1945122\ttotal: 5.48s\tremaining: 4.19s\n",
      "17:\tlearn: 1.1856740\ttotal: 5.84s\tremaining: 3.89s\n",
      "18:\tlearn: 1.1769240\ttotal: 6.2s\tremaining: 3.59s\n",
      "19:\tlearn: 1.1686906\ttotal: 6.57s\tremaining: 3.29s\n",
      "20:\tlearn: 1.1604949\ttotal: 6.92s\tremaining: 2.97s\n",
      "21:\tlearn: 1.1524868\ttotal: 7.28s\tremaining: 2.65s\n",
      "22:\tlearn: 1.1446569\ttotal: 7.64s\tremaining: 2.32s\n",
      "23:\tlearn: 1.1368281\ttotal: 7.99s\tremaining: 2s\n",
      "24:\tlearn: 1.1293271\ttotal: 8.33s\tremaining: 1.67s\n",
      "25:\tlearn: 1.1219222\ttotal: 8.65s\tremaining: 1.33s\n",
      "26:\tlearn: 1.1146404\ttotal: 8.99s\tremaining: 998ms\n",
      "27:\tlearn: 1.1074388\ttotal: 9.35s\tremaining: 668ms\n",
      "28:\tlearn: 1.1003320\ttotal: 9.68s\tremaining: 334ms\n",
      "29:\tlearn: 1.0938054\ttotal: 10.1s\tremaining: 0us\n",
      "              precision    recall  f1-score   support\n",
      "\n",
      "          -1       0.72      0.47      0.57       278\n",
      "           0       0.58      0.45      0.51       425\n",
      "           1       0.80      0.88      0.83      1755\n",
      "           2       0.78      0.80      0.79       706\n",
      "\n",
      "    accuracy                           0.77      3164\n",
      "   macro avg       0.72      0.65      0.68      3164\n",
      "weighted avg       0.76      0.77      0.76      3164\n",
      "\n"
     ]
    }
   ],
   "source": [
    "sc.fit(X_train,y_train)\n",
    "y_pred = sc.predict(X_test)\n",
    "print(classification_report(y_test, y_pred))"
   ]
  },
  {
   "cell_type": "markdown",
   "id": "b6a0a5e4",
   "metadata": {},
   "source": [
    "##### AdaBoost Classifier:"
   ]
  },
  {
   "cell_type": "code",
   "execution_count": 67,
   "id": "6d897dc5",
   "metadata": {},
   "outputs": [
    {
     "name": "stdout",
     "output_type": "stream",
     "text": [
      "              precision    recall  f1-score   support\n",
      "\n",
      "          -1       0.69      0.29      0.41       278\n",
      "           0       0.42      0.21      0.28       425\n",
      "           1       0.67      0.85      0.75      1755\n",
      "           2       0.62      0.53      0.57       706\n",
      "\n",
      "    accuracy                           0.64      3164\n",
      "   macro avg       0.60      0.47      0.50      3164\n",
      "weighted avg       0.63      0.64      0.62      3164\n",
      "\n"
     ]
    }
   ],
   "source": [
    "cl = AdaBoostClassifier()\n",
    "cl.fit(X_train,y_train)\n",
    "y_pred = cl.predict(X_test)\n",
    "print(classification_report(y_test, y_pred))"
   ]
  },
  {
   "cell_type": "markdown",
   "id": "0ab399b2",
   "metadata": {},
   "source": [
    "##### SupportVector Classifier:"
   ]
  },
  {
   "cell_type": "code",
   "execution_count": 65,
   "id": "f7edb2bf",
   "metadata": {},
   "outputs": [
    {
     "name": "stdout",
     "output_type": "stream",
     "text": [
      "              precision    recall  f1-score   support\n",
      "\n",
      "          -1       0.76      0.44      0.56       278\n",
      "           0       0.57      0.47      0.52       425\n",
      "           1       0.79      0.86      0.82      1755\n",
      "           2       0.76      0.77      0.77       706\n",
      "\n",
      "    accuracy                           0.75      3164\n",
      "   macro avg       0.72      0.64      0.67      3164\n",
      "weighted avg       0.75      0.75      0.75      3164\n",
      "\n"
     ]
    }
   ],
   "source": [
    "SW_uni = SVC(C = 0.1, degree = 1, kernel = 'linear')\n",
    "SW_uni.fit(X_train,y_train)\n",
    "y_pred = SW_uni.predict(X_test)\n",
    "print(classification_report(y_test, y_pred))"
   ]
  },
  {
   "cell_type": "markdown",
   "id": "750abcd3",
   "metadata": {},
   "source": [
    "#### Plotting the accuracy data into graph:"
   ]
  },
  {
   "cell_type": "code",
   "execution_count": 78,
   "id": "7fd825f9",
   "metadata": {},
   "outputs": [
    {
     "data": {
      "image/png": "[encoded data removed]",
      "text/plain": [
       "<Figure size 720x360 with 1 Axes>"
      ]
     },
     "metadata": {},
     "output_type": "display_data"
    }
   ],
   "source": [
    "# creating the dataset\n",
    "data = {'LSC':0.74, 'LFC':0.75, 'RFC':0.72,\n",
    "        'CLFS':0.69,'CBC':0.57,'CL':0.64,'SW_uni':0.75,'SC':0.77}\n",
    "Models = list(data.keys())\n",
    "values = list(data.values())\n",
    "  \n",
    "fig = plt.figure(figsize = (10, 5))\n",
    " \n",
    "# creating the bar plot\n",
    "plt.bar(Models, values, color ='blue',\n",
    "        width = 0.4)\n",
    " \n",
    "plt.xlabel(\"Built Models\")\n",
    "plt.ylabel(\"F1 Scores\")\n",
    "plt.title(\"Model Accuracy\")\n",
    "plt.show()"
   ]
  },
  {
   "cell_type": "code",
   "execution_count": 76,
   "id": "3874a7c6",
   "metadata": {},
   "outputs": [
    {
     "name": "stdout",
     "output_type": "stream",
     "text": [
      "Highest Accuracy score: ...........0.77\n",
      "Best model: ..........Stacking Classifier (SC)\n"
     ]
    }
   ],
   "source": [
    "print('Highest Accuracy score: '+ \"...........\"+str(0.77))\n",
    "print('Best model: ' +'..........'+ 'Stacking Classifier (SC)')"
   ]
  },
  {
   "cell_type": "markdown",
   "id": "354fabc0",
   "metadata": {},
   "source": [
    "#### Model Selected:"
   ]
  },
  {
   "cell_type": "markdown",
   "id": "09e444ef",
   "metadata": {},
   "source": [
    "After evaluating each models Classifiaction Report and looking at the Bar chart.\n",
    "We have come to the conclusion that the model that we chose was the Stacking Classifier, as it was \n",
    "the model with the highest Accuracy Score."
   ]
  },
  {
   "cell_type": "markdown",
   "id": "a8ad0c0d",
   "metadata": {},
   "source": [
    "<a id=\"seven\"></a>\n",
    "## 7. Model Explanations\n",
    "<a class=\"anchor\" id=\"1.1\"></a>\n",
    "<a href=#cont>Back to Table of Contents</a>\n",
    "\n",
    "---\n",
    "    \n",
    "| ⚡ Description: Model explanation ⚡ |\n",
    "| :--------------------------- |\n",
    "| In this section, you are required to discuss how the best performing model works in a simple way so that both technical and non-technical stakeholders can grasp the intuition behind the model's inner workings. |\n",
    "\n",
    "---"
   ]
  },
  {
   "cell_type": "code",
   "execution_count": null,
   "id": "5ff741c2",
   "metadata": {},
   "outputs": [],
   "source": [
    "# discuss chosen methods logic"
   ]
  }
 ],
 "metadata": {
  "interpreter": {
   "hash": "856a8449caac1f0f5343e6ebd97025a3528b37a835414937152ef42ed43f001e"
  },
  "kernelspec": {
   "display_name": "Python 3 (ipykernel)",
   "language": "python",
   "name": "python3"
  },
  "language_info": {
   "codemirror_mode": {
    "name": "ipython",
    "version": 3
   },
   "file_extension": ".py",
   "mimetype": "text/x-python",
   "name": "python",
   "nbconvert_exporter": "python",
   "pygments_lexer": "ipython3",
   "version": "3.10.0"
  },
  "latex_envs": {
   "LaTeX_envs_menu_present": true,
   "autoclose": false,
   "autocomplete": true,
   "bibliofile": "biblio.bib",
   "cite_by": "apalike",
   "current_citInitial": 1,
   "eqLabelWithNumbers": true,
   "eqNumInitial": 1,
   "hotkeys": {
    "equation": "Ctrl-E",
    "itemize": "Ctrl-I"
   },
   "labels_anchors": false,
   "latex_user_defs": false,
   "report_style_numbering": false,
   "user_envs_cfg": false
  },
  "toc": {
   "base_numbering": 1,
   "nav_menu": {},
   "number_sections": true,
   "sideBar": true,
   "skip_h1_title": false,
   "title_cell": "Table of Contents",
   "title_sidebar": "Contents",
   "toc_cell": false,
   "toc_position": {},
   "toc_section_display": true,
   "toc_window_display": false
  },
  "varInspector": {
   "cols": {
    "lenName": 16,
    "lenType": 16,
    "lenVar": 40
   },
   "kernels_config": {
    "python": {
     "delete_cmd_postfix": "",
     "delete_cmd_prefix": "del ",
     "library": "var_list.py",
     "varRefreshCmd": "print(var_dic_list())"
    },
    "r": {
     "delete_cmd_postfix": ") ",
     "delete_cmd_prefix": "rm(",
     "library": "var_list.r",
     "varRefreshCmd": "cat(var_dic_list()) "
    }
   },
   "types_to_exclude": [
    "module",
    "function",
    "builtin_function_or_method",
    "instance",
    "_Feature"
   ],
   "window_display": false
  }
 },
 "nbformat": 4,
 "nbformat_minor": 5
}
